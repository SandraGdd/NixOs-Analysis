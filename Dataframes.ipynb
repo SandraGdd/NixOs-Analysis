{
 "cells": [
  {
   "cell_type": "code",
   "execution_count": 126,
   "id": "73e00e85-dd88-4e80-add3-02e81526cea2",
   "metadata": {},
   "outputs": [],
   "source": [
    "import pandas as pd\n",
    "import numpy as np"
   ]
  },
  {
   "cell_type": "code",
   "execution_count": 1173,
   "id": "e5532f42-2232-4e09-8856-af15ef3651c7",
   "metadata": {},
   "outputs": [
    {
     "data": {
      "text/html": [
       "<div>\n",
       "<style scoped>\n",
       "    .dataframe tbody tr th:only-of-type {\n",
       "        vertical-align: middle;\n",
       "    }\n",
       "\n",
       "    .dataframe tbody tr th {\n",
       "        vertical-align: top;\n",
       "    }\n",
       "\n",
       "    .dataframe thead th {\n",
       "        text-align: right;\n",
       "    }\n",
       "</style>\n",
       "<table border=\"1\" class=\"dataframe\">\n",
       "  <thead>\n",
       "    <tr style=\"text-align: right;\">\n",
       "      <th></th>\n",
       "      <th>Unnamed: 0</th>\n",
       "      <th>Email</th>\n",
       "      <th>Timestamp</th>\n",
       "      <th>Company</th>\n",
       "    </tr>\n",
       "  </thead>\n",
       "  <tbody>\n",
       "    <tr>\n",
       "      <th>0</th>\n",
       "      <td>0</td>\n",
       "      <td>gaetan@glepage.com</td>\n",
       "      <td>2024-11-02T22:59:15Z</td>\n",
       "      <td>Inria</td>\n",
       "    </tr>\n",
       "    <tr>\n",
       "      <th>1</th>\n",
       "      <td>1</td>\n",
       "      <td>mweinelt@users.noreply.github.com</td>\n",
       "      <td>2024-11-02T22:42:26Z</td>\n",
       "      <td>NaN</td>\n",
       "    </tr>\n",
       "    <tr>\n",
       "      <th>2</th>\n",
       "      <td>2</td>\n",
       "      <td>9713184+wegank@users.noreply.github.com</td>\n",
       "      <td>2024-11-02T22:29:01Z</td>\n",
       "      <td>@lip6</td>\n",
       "    </tr>\n",
       "    <tr>\n",
       "      <th>3</th>\n",
       "      <td>3</td>\n",
       "      <td>pyrox@pyrox.dev</td>\n",
       "      <td>2024-11-02T22:24:44Z</td>\n",
       "      <td>PyroNet</td>\n",
       "    </tr>\n",
       "    <tr>\n",
       "      <th>4</th>\n",
       "      <td>4</td>\n",
       "      <td>9713184+wegank@users.noreply.github.com</td>\n",
       "      <td>2024-11-02T22:19:08Z</td>\n",
       "      <td>@lip6</td>\n",
       "    </tr>\n",
       "    <tr>\n",
       "      <th>...</th>\n",
       "      <td>...</td>\n",
       "      <td>...</td>\n",
       "      <td>...</td>\n",
       "      <td>...</td>\n",
       "    </tr>\n",
       "    <tr>\n",
       "      <th>83988</th>\n",
       "      <td>4995</td>\n",
       "      <td>mail@fabian-affolter.ch</td>\n",
       "      <td>2024-04-19T07:28:22Z</td>\n",
       "      <td>NaN</td>\n",
       "    </tr>\n",
       "    <tr>\n",
       "      <th>83989</th>\n",
       "      <td>4996</td>\n",
       "      <td>mail@fabian-affolter.ch</td>\n",
       "      <td>2024-04-19T07:07:50Z</td>\n",
       "      <td>NaN</td>\n",
       "    </tr>\n",
       "    <tr>\n",
       "      <th>83990</th>\n",
       "      <td>4997</td>\n",
       "      <td>mail@fabian-affolter.ch</td>\n",
       "      <td>2024-04-19T07:06:06Z</td>\n",
       "      <td>NaN</td>\n",
       "    </tr>\n",
       "    <tr>\n",
       "      <th>83991</th>\n",
       "      <td>4998</td>\n",
       "      <td>mail@fabian-affolter.ch</td>\n",
       "      <td>2024-04-19T07:05:48Z</td>\n",
       "      <td>NaN</td>\n",
       "    </tr>\n",
       "    <tr>\n",
       "      <th>83992</th>\n",
       "      <td>4999</td>\n",
       "      <td>mail@fabian-affolter.ch</td>\n",
       "      <td>2024-04-19T07:05:31Z</td>\n",
       "      <td>NaN</td>\n",
       "    </tr>\n",
       "  </tbody>\n",
       "</table>\n",
       "<p>83993 rows × 4 columns</p>\n",
       "</div>"
      ],
      "text/plain": [
       "       Unnamed: 0                                    Email  \\\n",
       "0               0                       gaetan@glepage.com   \n",
       "1               1        mweinelt@users.noreply.github.com   \n",
       "2               2  9713184+wegank@users.noreply.github.com   \n",
       "3               3                          pyrox@pyrox.dev   \n",
       "4               4  9713184+wegank@users.noreply.github.com   \n",
       "...           ...                                      ...   \n",
       "83988        4995                  mail@fabian-affolter.ch   \n",
       "83989        4996                  mail@fabian-affolter.ch   \n",
       "83990        4997                  mail@fabian-affolter.ch   \n",
       "83991        4998                  mail@fabian-affolter.ch   \n",
       "83992        4999                  mail@fabian-affolter.ch   \n",
       "\n",
       "                  Timestamp  Company  \n",
       "0      2024-11-02T22:59:15Z    Inria  \n",
       "1      2024-11-02T22:42:26Z      NaN  \n",
       "2      2024-11-02T22:29:01Z    @lip6  \n",
       "3      2024-11-02T22:24:44Z  PyroNet  \n",
       "4      2024-11-02T22:19:08Z    @lip6  \n",
       "...                     ...      ...  \n",
       "83988  2024-04-19T07:28:22Z      NaN  \n",
       "83989  2024-04-19T07:07:50Z      NaN  \n",
       "83990  2024-04-19T07:06:06Z      NaN  \n",
       "83991  2024-04-19T07:05:48Z      NaN  \n",
       "83992  2024-04-19T07:05:31Z      NaN  \n",
       "\n",
       "[83993 rows x 4 columns]"
      ]
     },
     "execution_count": 1173,
     "metadata": {},
     "output_type": "execute_result"
    }
   ],
   "source": [
    "file_path= '/Users/ironhack/Documents/GitHub/NixOs-Analysis/df_new.csv'\n",
    "df= pd.read_csv(file_path)\n",
    "df"
   ]
  },
  {
   "cell_type": "code",
   "execution_count": 1175,
   "id": "749d485b-4be2-4cfd-a6b3-a43973a6f543",
   "metadata": {},
   "outputs": [
    {
     "data": {
      "text/plain": [
       "0"
      ]
     },
     "execution_count": 1175,
     "metadata": {},
     "output_type": "execute_result"
    }
   ],
   "source": [
    "df.duplicated().sum()"
   ]
  },
  {
   "cell_type": "code",
   "execution_count": 1177,
   "id": "ad5ceef7-26c7-462a-bfa7-dcac21e8f1c3",
   "metadata": {},
   "outputs": [],
   "source": [
    "#df= df.drop_duplicates()"
   ]
  },
  {
   "cell_type": "code",
   "execution_count": 1179,
   "id": "5b61f8a2-6f80-483d-a44b-0fbbba77b54f",
   "metadata": {},
   "outputs": [],
   "source": [
    "df['Company'] = df['Company'].str.replace('@', '', regex=False) #performs simple, direct string replacement(default r=True)\n",
    "df['Company'] = df['Company'].str.strip()"
   ]
  },
  {
   "cell_type": "code",
   "execution_count": 1181,
   "id": "d6617ee5-6565-492d-bb12-c242f90efd75",
   "metadata": {},
   "outputs": [],
   "source": [
    "#df['Company'].unique()"
   ]
  },
  {
   "cell_type": "code",
   "execution_count": 1183,
   "id": "e23efbdc-9edc-4180-b16d-391855bb1a1c",
   "metadata": {},
   "outputs": [
    {
     "data": {
      "text/plain": [
       "Company\n",
       "lip6                   3245\n",
       "UESTC                  1819\n",
       "European Commission    1808\n",
       "sapcc                  1797\n",
       "NTNU                   1677\n",
       "                       ... \n",
       "Sony AI                   1\n",
       "Zoolatech                 1\n",
       "Universiteit Gent         1\n",
       "ATINEL                    1\n",
       "nedeco GmbH               1\n",
       "Name: count, Length: 725, dtype: int64"
      ]
     },
     "execution_count": 1183,
     "metadata": {},
     "output_type": "execute_result"
    }
   ],
   "source": [
    "df['Company'].value_counts()"
   ]
  },
  {
   "cell_type": "code",
   "execution_count": 1185,
   "id": "c4d59fb2-d8f6-4f8d-b74a-69e12aae7831",
   "metadata": {},
   "outputs": [],
   "source": [
    "#df['Company'].unique()"
   ]
  },
  {
   "cell_type": "code",
   "execution_count": 1187,
   "id": "a88de490-9e02-4264-8082-c23a75a0b359",
   "metadata": {},
   "outputs": [],
   "source": [
    "df.loc[:, 'Company'] = df['Company'].replace(['no', None, np.nan], None)"
   ]
  },
  {
   "cell_type": "code",
   "execution_count": 1189,
   "id": "bb49dee1-5030-4646-8816-41dcefbb89a9",
   "metadata": {},
   "outputs": [],
   "source": [
    "df['Company'] = df['Company'].fillna(\"None\")   # No company= None als string "
   ]
  },
  {
   "cell_type": "code",
   "execution_count": 1191,
   "id": "99ac6f41-b42e-43e7-ab3f-b391f1ee3a4e",
   "metadata": {},
   "outputs": [
    {
     "data": {
      "text/plain": [
       "57707"
      ]
     },
     "execution_count": 1191,
     "metadata": {},
     "output_type": "execute_result"
    }
   ],
   "source": [
    "none_count_exact = (df['Company'] == 'None').sum()\n",
    "none_count_exact"
   ]
  },
  {
   "cell_type": "code",
   "execution_count": 1193,
   "id": "8f14d753-1039-45ca-9f49-e050f7a13c63",
   "metadata": {},
   "outputs": [
    {
     "data": {
      "text/html": [
       "<div>\n",
       "<style scoped>\n",
       "    .dataframe tbody tr th:only-of-type {\n",
       "        vertical-align: middle;\n",
       "    }\n",
       "\n",
       "    .dataframe tbody tr th {\n",
       "        vertical-align: top;\n",
       "    }\n",
       "\n",
       "    .dataframe thead th {\n",
       "        text-align: right;\n",
       "    }\n",
       "</style>\n",
       "<table border=\"1\" class=\"dataframe\">\n",
       "  <thead>\n",
       "    <tr style=\"text-align: right;\">\n",
       "      <th></th>\n",
       "      <th>Unnamed: 0</th>\n",
       "      <th>Email</th>\n",
       "      <th>Timestamp</th>\n",
       "      <th>Company</th>\n",
       "    </tr>\n",
       "  </thead>\n",
       "  <tbody>\n",
       "    <tr>\n",
       "      <th>0</th>\n",
       "      <td>0</td>\n",
       "      <td>pbsds@hotmail.com</td>\n",
       "      <td>2024-11-05T19:45:17Z</td>\n",
       "      <td>NTNU</td>\n",
       "    </tr>\n",
       "    <tr>\n",
       "      <th>1</th>\n",
       "      <td>1</td>\n",
       "      <td>pbsds@hotmail.com</td>\n",
       "      <td>2024-11-05T19:37:59Z</td>\n",
       "      <td>NTNU</td>\n",
       "    </tr>\n",
       "    <tr>\n",
       "      <th>2</th>\n",
       "      <td>2</td>\n",
       "      <td>pbsds@hotmail.com</td>\n",
       "      <td>2024-11-05T19:32:27Z</td>\n",
       "      <td>NTNU</td>\n",
       "    </tr>\n",
       "    <tr>\n",
       "      <th>3</th>\n",
       "      <td>3</td>\n",
       "      <td>pbsds@hotmail.com</td>\n",
       "      <td>2024-11-05T19:23:10Z</td>\n",
       "      <td>NTNU</td>\n",
       "    </tr>\n",
       "    <tr>\n",
       "      <th>4</th>\n",
       "      <td>4</td>\n",
       "      <td>me@0upti.me</td>\n",
       "      <td>2024-11-05T18:23:38Z</td>\n",
       "      <td>None</td>\n",
       "    </tr>\n",
       "    <tr>\n",
       "      <th>...</th>\n",
       "      <td>...</td>\n",
       "      <td>...</td>\n",
       "      <td>...</td>\n",
       "      <td>...</td>\n",
       "    </tr>\n",
       "    <tr>\n",
       "      <th>83988</th>\n",
       "      <td>1562</td>\n",
       "      <td>rasmus@precenth.eu</td>\n",
       "      <td>2022-04-02T19:42:11Z</td>\n",
       "      <td>klarna</td>\n",
       "    </tr>\n",
       "    <tr>\n",
       "      <th>83989</th>\n",
       "      <td>1766</td>\n",
       "      <td>programming@manuelbaerenz.de</td>\n",
       "      <td>2022-01-06T18:38:04Z</td>\n",
       "      <td>None</td>\n",
       "    </tr>\n",
       "    <tr>\n",
       "      <th>83990</th>\n",
       "      <td>770</td>\n",
       "      <td>doron.behar@gmail.com</td>\n",
       "      <td>2021-11-14T18:06:30Z</td>\n",
       "      <td>mathrills</td>\n",
       "    </tr>\n",
       "    <tr>\n",
       "      <th>83991</th>\n",
       "      <td>3859</td>\n",
       "      <td>juloo.dsi@gmail.com</td>\n",
       "      <td>2020-10-23T16:11:55Z</td>\n",
       "      <td>tarides</td>\n",
       "    </tr>\n",
       "    <tr>\n",
       "      <th>83992</th>\n",
       "      <td>1998</td>\n",
       "      <td>doron.behar@gmail.com</td>\n",
       "      <td>2020-04-09T20:15:16Z</td>\n",
       "      <td>mathrills</td>\n",
       "    </tr>\n",
       "  </tbody>\n",
       "</table>\n",
       "<p>83993 rows × 4 columns</p>\n",
       "</div>"
      ],
      "text/plain": [
       "       Unnamed: 0                         Email             Timestamp  \\\n",
       "0               0             pbsds@hotmail.com  2024-11-05T19:45:17Z   \n",
       "1               1             pbsds@hotmail.com  2024-11-05T19:37:59Z   \n",
       "2               2             pbsds@hotmail.com  2024-11-05T19:32:27Z   \n",
       "3               3             pbsds@hotmail.com  2024-11-05T19:23:10Z   \n",
       "4               4                   me@0upti.me  2024-11-05T18:23:38Z   \n",
       "...           ...                           ...                   ...   \n",
       "83988        1562            rasmus@precenth.eu  2022-04-02T19:42:11Z   \n",
       "83989        1766  programming@manuelbaerenz.de  2022-01-06T18:38:04Z   \n",
       "83990         770         doron.behar@gmail.com  2021-11-14T18:06:30Z   \n",
       "83991        3859           juloo.dsi@gmail.com  2020-10-23T16:11:55Z   \n",
       "83992        1998         doron.behar@gmail.com  2020-04-09T20:15:16Z   \n",
       "\n",
       "         Company  \n",
       "0           NTNU  \n",
       "1           NTNU  \n",
       "2           NTNU  \n",
       "3           NTNU  \n",
       "4           None  \n",
       "...          ...  \n",
       "83988     klarna  \n",
       "83989       None  \n",
       "83990  mathrills  \n",
       "83991    tarides  \n",
       "83992  mathrills  \n",
       "\n",
       "[83993 rows x 4 columns]"
      ]
     },
     "execution_count": 1193,
     "metadata": {},
     "output_type": "execute_result"
    }
   ],
   "source": [
    "df_sorted = df.sort_values(by='Timestamp', ascending=False).reset_index(drop=True)\n",
    "df_sorted    #falls das danach nicht mehr geht"
   ]
  },
  {
   "cell_type": "code",
   "execution_count": 1206,
   "id": "c5b78971-a616-4bfd-9955-70cd20b3f9ff",
   "metadata": {},
   "outputs": [],
   "source": [
    "#savety save\n",
    "#df_sorted.to_csv('df_sorted_37')"
   ]
  },
  {
   "cell_type": "markdown",
   "id": "c503a246-7411-42ca-88b8-0b06b2aba904",
   "metadata": {},
   "source": [
    "\"\"\"df_duplicates = pd.merge(df,df10, how= 'inner', indicator=True)\n",
    "if not df_duplicates.empty:\n",
    "    print(\"yes\")\n",
    "else:\n",
    "    print(\"no\")\"\"\""
   ]
  },
  {
   "cell_type": "code",
   "execution_count": 1198,
   "id": "48071281-1e74-4da9-ad2f-bd6bc3f28ec0",
   "metadata": {},
   "outputs": [
    {
     "data": {
      "text/html": [
       "<div>\n",
       "<style scoped>\n",
       "    .dataframe tbody tr th:only-of-type {\n",
       "        vertical-align: middle;\n",
       "    }\n",
       "\n",
       "    .dataframe tbody tr th {\n",
       "        vertical-align: top;\n",
       "    }\n",
       "\n",
       "    .dataframe thead th {\n",
       "        text-align: right;\n",
       "    }\n",
       "</style>\n",
       "<table border=\"1\" class=\"dataframe\">\n",
       "  <thead>\n",
       "    <tr style=\"text-align: right;\">\n",
       "      <th></th>\n",
       "      <th>Unnamed: 0</th>\n",
       "      <th>Email</th>\n",
       "      <th>Timestamp</th>\n",
       "      <th>Company</th>\n",
       "      <th>year</th>\n",
       "      <th>month</th>\n",
       "    </tr>\n",
       "  </thead>\n",
       "  <tbody>\n",
       "    <tr>\n",
       "      <th>0</th>\n",
       "      <td>0</td>\n",
       "      <td>pbsds@hotmail.com</td>\n",
       "      <td>2024-11-05 19:45:17+00:00</td>\n",
       "      <td>NTNU</td>\n",
       "      <td>2024</td>\n",
       "      <td>11</td>\n",
       "    </tr>\n",
       "    <tr>\n",
       "      <th>1</th>\n",
       "      <td>1</td>\n",
       "      <td>pbsds@hotmail.com</td>\n",
       "      <td>2024-11-05 19:37:59+00:00</td>\n",
       "      <td>NTNU</td>\n",
       "      <td>2024</td>\n",
       "      <td>11</td>\n",
       "    </tr>\n",
       "    <tr>\n",
       "      <th>2</th>\n",
       "      <td>2</td>\n",
       "      <td>pbsds@hotmail.com</td>\n",
       "      <td>2024-11-05 19:32:27+00:00</td>\n",
       "      <td>NTNU</td>\n",
       "      <td>2024</td>\n",
       "      <td>11</td>\n",
       "    </tr>\n",
       "    <tr>\n",
       "      <th>3</th>\n",
       "      <td>3</td>\n",
       "      <td>pbsds@hotmail.com</td>\n",
       "      <td>2024-11-05 19:23:10+00:00</td>\n",
       "      <td>NTNU</td>\n",
       "      <td>2024</td>\n",
       "      <td>11</td>\n",
       "    </tr>\n",
       "    <tr>\n",
       "      <th>4</th>\n",
       "      <td>4</td>\n",
       "      <td>me@0upti.me</td>\n",
       "      <td>2024-11-05 18:23:38+00:00</td>\n",
       "      <td>None</td>\n",
       "      <td>2024</td>\n",
       "      <td>11</td>\n",
       "    </tr>\n",
       "    <tr>\n",
       "      <th>...</th>\n",
       "      <td>...</td>\n",
       "      <td>...</td>\n",
       "      <td>...</td>\n",
       "      <td>...</td>\n",
       "      <td>...</td>\n",
       "      <td>...</td>\n",
       "    </tr>\n",
       "    <tr>\n",
       "      <th>83988</th>\n",
       "      <td>1562</td>\n",
       "      <td>rasmus@precenth.eu</td>\n",
       "      <td>2022-04-02 19:42:11+00:00</td>\n",
       "      <td>klarna</td>\n",
       "      <td>2022</td>\n",
       "      <td>4</td>\n",
       "    </tr>\n",
       "    <tr>\n",
       "      <th>83989</th>\n",
       "      <td>1766</td>\n",
       "      <td>programming@manuelbaerenz.de</td>\n",
       "      <td>2022-01-06 18:38:04+00:00</td>\n",
       "      <td>None</td>\n",
       "      <td>2022</td>\n",
       "      <td>1</td>\n",
       "    </tr>\n",
       "    <tr>\n",
       "      <th>83990</th>\n",
       "      <td>770</td>\n",
       "      <td>doron.behar@gmail.com</td>\n",
       "      <td>2021-11-14 18:06:30+00:00</td>\n",
       "      <td>mathrills</td>\n",
       "      <td>2021</td>\n",
       "      <td>11</td>\n",
       "    </tr>\n",
       "    <tr>\n",
       "      <th>83991</th>\n",
       "      <td>3859</td>\n",
       "      <td>juloo.dsi@gmail.com</td>\n",
       "      <td>2020-10-23 16:11:55+00:00</td>\n",
       "      <td>tarides</td>\n",
       "      <td>2020</td>\n",
       "      <td>10</td>\n",
       "    </tr>\n",
       "    <tr>\n",
       "      <th>83992</th>\n",
       "      <td>1998</td>\n",
       "      <td>doron.behar@gmail.com</td>\n",
       "      <td>2020-04-09 20:15:16+00:00</td>\n",
       "      <td>mathrills</td>\n",
       "      <td>2020</td>\n",
       "      <td>4</td>\n",
       "    </tr>\n",
       "  </tbody>\n",
       "</table>\n",
       "<p>83993 rows × 6 columns</p>\n",
       "</div>"
      ],
      "text/plain": [
       "       Unnamed: 0                         Email                 Timestamp  \\\n",
       "0               0             pbsds@hotmail.com 2024-11-05 19:45:17+00:00   \n",
       "1               1             pbsds@hotmail.com 2024-11-05 19:37:59+00:00   \n",
       "2               2             pbsds@hotmail.com 2024-11-05 19:32:27+00:00   \n",
       "3               3             pbsds@hotmail.com 2024-11-05 19:23:10+00:00   \n",
       "4               4                   me@0upti.me 2024-11-05 18:23:38+00:00   \n",
       "...           ...                           ...                       ...   \n",
       "83988        1562            rasmus@precenth.eu 2022-04-02 19:42:11+00:00   \n",
       "83989        1766  programming@manuelbaerenz.de 2022-01-06 18:38:04+00:00   \n",
       "83990         770         doron.behar@gmail.com 2021-11-14 18:06:30+00:00   \n",
       "83991        3859           juloo.dsi@gmail.com 2020-10-23 16:11:55+00:00   \n",
       "83992        1998         doron.behar@gmail.com 2020-04-09 20:15:16+00:00   \n",
       "\n",
       "         Company  year  month  \n",
       "0           NTNU  2024     11  \n",
       "1           NTNU  2024     11  \n",
       "2           NTNU  2024     11  \n",
       "3           NTNU  2024     11  \n",
       "4           None  2024     11  \n",
       "...          ...   ...    ...  \n",
       "83988     klarna  2022      4  \n",
       "83989       None  2022      1  \n",
       "83990  mathrills  2021     11  \n",
       "83991    tarides  2020     10  \n",
       "83992  mathrills  2020      4  \n",
       "\n",
       "[83993 rows x 6 columns]"
      ]
     },
     "execution_count": 1198,
     "metadata": {},
     "output_type": "execute_result"
    }
   ],
   "source": [
    "df_sorted['Timestamp'] = pd.to_datetime(df_sorted['Timestamp'])\n",
    "df_sorted['year'] = df_sorted['Timestamp'].dt.year\n",
    "df_sorted['month'] = df_sorted['Timestamp'].dt.month\n",
    "df_sorted"
   ]
  },
  {
   "cell_type": "code",
   "execution_count": 1200,
   "id": "f37ac00f-2dd3-4da3-8611-60210cae1873",
   "metadata": {},
   "outputs": [
    {
     "data": {
      "text/plain": [
       "329"
      ]
     },
     "execution_count": 1200,
     "metadata": {},
     "output_type": "execute_result"
    }
   ],
   "source": [
    "count_2023 = (df_sorted['year'] == 2023).sum()\n",
    "count_2023"
   ]
  },
  {
   "cell_type": "code",
   "execution_count": 1202,
   "id": "44d540bd-c466-4413-8631-ff3bbbc9a4e3",
   "metadata": {},
   "outputs": [
    {
     "data": {
      "text/plain": [
       "'df_duplicates = pd.merge(df,df_new, how= \\'inner\\', indicator=True)\\nif not df_duplicates.empty:\\n    print(\"yes\")\\nelse:\\n    print(\"no\")'"
      ]
     },
     "execution_count": 1202,
     "metadata": {},
     "output_type": "execute_result"
    }
   ],
   "source": [
    "\"\"\"df_duplicates = pd.merge(df,df_new, how= 'inner', indicator=True)\n",
    "if not df_duplicates.empty:\n",
    "    print(\"yes\")\n",
    "else:\n",
    "    print(\"no\")\"\"\""
   ]
  },
  {
   "cell_type": "code",
   "execution_count": null,
   "id": "de9fa897-44fd-4a41-af0e-01c8f1be4ab5",
   "metadata": {},
   "outputs": [],
   "source": []
  },
  {
   "cell_type": "code",
   "execution_count": null,
   "id": "7d2f7ab5-f71f-4c45-875b-f68f26b6143b",
   "metadata": {},
   "outputs": [],
   "source": []
  },
  {
   "cell_type": "code",
   "execution_count": null,
   "id": "9c4f1afb-edf2-4fbe-8e37-9eb111830d9b",
   "metadata": {},
   "outputs": [],
   "source": []
  }
 ],
 "metadata": {
  "kernelspec": {
   "display_name": "Python 3 (ipykernel)",
   "language": "python",
   "name": "python3"
  },
  "language_info": {
   "codemirror_mode": {
    "name": "ipython",
    "version": 3
   },
   "file_extension": ".py",
   "mimetype": "text/x-python",
   "name": "python",
   "nbconvert_exporter": "python",
   "pygments_lexer": "ipython3",
   "version": "3.12.4"
  }
 },
 "nbformat": 4,
 "nbformat_minor": 5
}
