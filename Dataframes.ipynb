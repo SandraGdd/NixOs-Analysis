{
 "cells": [
  {
   "cell_type": "code",
   "execution_count": 126,
   "id": "73e00e85-dd88-4e80-add3-02e81526cea2",
   "metadata": {},
   "outputs": [],
   "source": [
    "import pandas as pd\n",
    "import numpy as np"
   ]
  },
  {
   "cell_type": "code",
   "execution_count": 696,
   "id": "e5532f42-2232-4e09-8856-af15ef3651c7",
   "metadata": {},
   "outputs": [
    {
     "data": {
      "text/html": [
       "<div>\n",
       "<style scoped>\n",
       "    .dataframe tbody tr th:only-of-type {\n",
       "        vertical-align: middle;\n",
       "    }\n",
       "\n",
       "    .dataframe tbody tr th {\n",
       "        vertical-align: top;\n",
       "    }\n",
       "\n",
       "    .dataframe thead th {\n",
       "        text-align: right;\n",
       "    }\n",
       "</style>\n",
       "<table border=\"1\" class=\"dataframe\">\n",
       "  <thead>\n",
       "    <tr style=\"text-align: right;\">\n",
       "      <th></th>\n",
       "      <th>Unnamed: 0</th>\n",
       "      <th>Email</th>\n",
       "      <th>Timestamp</th>\n",
       "      <th>Company</th>\n",
       "    </tr>\n",
       "  </thead>\n",
       "  <tbody>\n",
       "    <tr>\n",
       "      <th>0</th>\n",
       "      <td>0</td>\n",
       "      <td>gaetan@glepage.com</td>\n",
       "      <td>2024-11-02T22:59:15Z</td>\n",
       "      <td>Inria</td>\n",
       "    </tr>\n",
       "    <tr>\n",
       "      <th>1</th>\n",
       "      <td>1</td>\n",
       "      <td>mweinelt@users.noreply.github.com</td>\n",
       "      <td>2024-11-02T22:42:26Z</td>\n",
       "      <td>NaN</td>\n",
       "    </tr>\n",
       "    <tr>\n",
       "      <th>2</th>\n",
       "      <td>2</td>\n",
       "      <td>9713184+wegank@users.noreply.github.com</td>\n",
       "      <td>2024-11-02T22:29:01Z</td>\n",
       "      <td>@lip6</td>\n",
       "    </tr>\n",
       "    <tr>\n",
       "      <th>3</th>\n",
       "      <td>3</td>\n",
       "      <td>pyrox@pyrox.dev</td>\n",
       "      <td>2024-11-02T22:24:44Z</td>\n",
       "      <td>PyroNet</td>\n",
       "    </tr>\n",
       "    <tr>\n",
       "      <th>4</th>\n",
       "      <td>4</td>\n",
       "      <td>9713184+wegank@users.noreply.github.com</td>\n",
       "      <td>2024-11-02T22:19:08Z</td>\n",
       "      <td>@lip6</td>\n",
       "    </tr>\n",
       "    <tr>\n",
       "      <th>...</th>\n",
       "      <td>...</td>\n",
       "      <td>...</td>\n",
       "      <td>...</td>\n",
       "      <td>...</td>\n",
       "    </tr>\n",
       "    <tr>\n",
       "      <th>28439</th>\n",
       "      <td>995</td>\n",
       "      <td>nickcao@nichi.co</td>\n",
       "      <td>2024-08-22T20:57:26Z</td>\n",
       "      <td>NaN</td>\n",
       "    </tr>\n",
       "    <tr>\n",
       "      <th>28440</th>\n",
       "      <td>996</td>\n",
       "      <td>nickcao@nichi.co</td>\n",
       "      <td>2024-08-22T20:55:38Z</td>\n",
       "      <td>NaN</td>\n",
       "    </tr>\n",
       "    <tr>\n",
       "      <th>28441</th>\n",
       "      <td>997</td>\n",
       "      <td>nickcao@nichi.co</td>\n",
       "      <td>2024-08-22T20:55:12Z</td>\n",
       "      <td>NaN</td>\n",
       "    </tr>\n",
       "    <tr>\n",
       "      <th>28442</th>\n",
       "      <td>998</td>\n",
       "      <td>mail@maralorn.de</td>\n",
       "      <td>2024-08-22T20:54:35Z</td>\n",
       "      <td>NaN</td>\n",
       "    </tr>\n",
       "    <tr>\n",
       "      <th>28443</th>\n",
       "      <td>999</td>\n",
       "      <td>nickcao@nichi.co</td>\n",
       "      <td>2024-08-22T20:54:28Z</td>\n",
       "      <td>NaN</td>\n",
       "    </tr>\n",
       "  </tbody>\n",
       "</table>\n",
       "<p>28444 rows × 4 columns</p>\n",
       "</div>"
      ],
      "text/plain": [
       "       Unnamed: 0                                    Email  \\\n",
       "0               0                       gaetan@glepage.com   \n",
       "1               1        mweinelt@users.noreply.github.com   \n",
       "2               2  9713184+wegank@users.noreply.github.com   \n",
       "3               3                          pyrox@pyrox.dev   \n",
       "4               4  9713184+wegank@users.noreply.github.com   \n",
       "...           ...                                      ...   \n",
       "28439         995                         nickcao@nichi.co   \n",
       "28440         996                         nickcao@nichi.co   \n",
       "28441         997                         nickcao@nichi.co   \n",
       "28442         998                         mail@maralorn.de   \n",
       "28443         999                         nickcao@nichi.co   \n",
       "\n",
       "                  Timestamp  Company  \n",
       "0      2024-11-02T22:59:15Z    Inria  \n",
       "1      2024-11-02T22:42:26Z      NaN  \n",
       "2      2024-11-02T22:29:01Z    @lip6  \n",
       "3      2024-11-02T22:24:44Z  PyroNet  \n",
       "4      2024-11-02T22:19:08Z    @lip6  \n",
       "...                     ...      ...  \n",
       "28439  2024-08-22T20:57:26Z      NaN  \n",
       "28440  2024-08-22T20:55:38Z      NaN  \n",
       "28441  2024-08-22T20:55:12Z      NaN  \n",
       "28442  2024-08-22T20:54:35Z      NaN  \n",
       "28443  2024-08-22T20:54:28Z      NaN  \n",
       "\n",
       "[28444 rows x 4 columns]"
      ]
     },
     "execution_count": 696,
     "metadata": {},
     "output_type": "execute_result"
    }
   ],
   "source": [
    "file_path= '/Users/ironhack/Documents/GitHub/NixOs-Analysis/df_new.csv'\n",
    "df= pd.read_csv(file_path)\n",
    "df"
   ]
  },
  {
   "cell_type": "code",
   "execution_count": 698,
   "id": "749d485b-4be2-4cfd-a6b3-a43973a6f543",
   "metadata": {},
   "outputs": [
    {
     "data": {
      "text/plain": [
       "0"
      ]
     },
     "execution_count": 698,
     "metadata": {},
     "output_type": "execute_result"
    }
   ],
   "source": [
    "df.duplicated().sum()"
   ]
  },
  {
   "cell_type": "code",
   "execution_count": 700,
   "id": "ad5ceef7-26c7-462a-bfa7-dcac21e8f1c3",
   "metadata": {},
   "outputs": [],
   "source": [
    "#df= df.drop_duplicates()"
   ]
  },
  {
   "cell_type": "code",
   "execution_count": null,
   "id": "febbc33c-7aea-4e10-9acb-e757e5653987",
   "metadata": {},
   "outputs": [],
   "source": []
  },
  {
   "cell_type": "code",
   "execution_count": 703,
   "id": "5b61f8a2-6f80-483d-a44b-0fbbba77b54f",
   "metadata": {},
   "outputs": [],
   "source": [
    "df['Company'] = df['Company'].str.replace('@', '', regex=False) #performs simple, direct string replacement(default r=True)\n",
    "df['Company'] = df['Company'].str.strip()"
   ]
  },
  {
   "cell_type": "code",
   "execution_count": 705,
   "id": "d6617ee5-6565-492d-bb12-c242f90efd75",
   "metadata": {},
   "outputs": [],
   "source": [
    "#df['Company'].unique()"
   ]
  },
  {
   "cell_type": "code",
   "execution_count": 707,
   "id": "e23efbdc-9edc-4180-b16d-391855bb1a1c",
   "metadata": {},
   "outputs": [
    {
     "data": {
      "text/plain": [
       "Company\n",
       "UESTC                      823\n",
       "lip6                       786\n",
       "Inria                      594\n",
       "UC Berkeley                538\n",
       "NTNU                       503\n",
       "                          ... \n",
       "Trier University / DFKI      1\n",
       "onarray                      1\n",
       "Juspay                       1\n",
       "identinet GmbH               1\n",
       "Google                       1\n",
       "Name: count, Length: 411, dtype: int64"
      ]
     },
     "execution_count": 707,
     "metadata": {},
     "output_type": "execute_result"
    }
   ],
   "source": [
    "df['Company'].value_counts()"
   ]
  },
  {
   "cell_type": "code",
   "execution_count": 709,
   "id": "c4d59fb2-d8f6-4f8d-b74a-69e12aae7831",
   "metadata": {},
   "outputs": [],
   "source": [
    "#df['Company'].unique()"
   ]
  },
  {
   "cell_type": "code",
   "execution_count": 711,
   "id": "a88de490-9e02-4264-8082-c23a75a0b359",
   "metadata": {},
   "outputs": [],
   "source": [
    "df.loc[:, 'Company'] = df['Company'].replace(['no', None, np.nan], None)"
   ]
  },
  {
   "cell_type": "code",
   "execution_count": 713,
   "id": "bb49dee1-5030-4646-8816-41dcefbb89a9",
   "metadata": {},
   "outputs": [],
   "source": [
    "df['Company'] = df['Company'].fillna(\"None\")   # No company= None als string "
   ]
  },
  {
   "cell_type": "code",
   "execution_count": 715,
   "id": "99ac6f41-b42e-43e7-ab3f-b391f1ee3a4e",
   "metadata": {},
   "outputs": [
    {
     "data": {
      "text/plain": [
       "20293"
      ]
     },
     "execution_count": 715,
     "metadata": {},
     "output_type": "execute_result"
    }
   ],
   "source": [
    "none_count_exact = (df['Company'] == 'None').sum()\n",
    "none_count_exact"
   ]
  },
  {
   "cell_type": "code",
   "execution_count": 717,
   "id": "8f14d753-1039-45ca-9f49-e050f7a13c63",
   "metadata": {},
   "outputs": [
    {
     "data": {
      "text/html": [
       "<div>\n",
       "<style scoped>\n",
       "    .dataframe tbody tr th:only-of-type {\n",
       "        vertical-align: middle;\n",
       "    }\n",
       "\n",
       "    .dataframe tbody tr th {\n",
       "        vertical-align: top;\n",
       "    }\n",
       "\n",
       "    .dataframe thead th {\n",
       "        text-align: right;\n",
       "    }\n",
       "</style>\n",
       "<table border=\"1\" class=\"dataframe\">\n",
       "  <thead>\n",
       "    <tr style=\"text-align: right;\">\n",
       "      <th></th>\n",
       "      <th>Unnamed: 0</th>\n",
       "      <th>Email</th>\n",
       "      <th>Timestamp</th>\n",
       "      <th>Company</th>\n",
       "    </tr>\n",
       "  </thead>\n",
       "  <tbody>\n",
       "    <tr>\n",
       "      <th>0</th>\n",
       "      <td>0</td>\n",
       "      <td>pbsds@hotmail.com</td>\n",
       "      <td>2024-11-05T19:45:17Z</td>\n",
       "      <td>NTNU</td>\n",
       "    </tr>\n",
       "    <tr>\n",
       "      <th>1</th>\n",
       "      <td>1</td>\n",
       "      <td>pbsds@hotmail.com</td>\n",
       "      <td>2024-11-05T19:37:59Z</td>\n",
       "      <td>NTNU</td>\n",
       "    </tr>\n",
       "    <tr>\n",
       "      <th>2</th>\n",
       "      <td>2</td>\n",
       "      <td>pbsds@hotmail.com</td>\n",
       "      <td>2024-11-05T19:32:27Z</td>\n",
       "      <td>NTNU</td>\n",
       "    </tr>\n",
       "    <tr>\n",
       "      <th>3</th>\n",
       "      <td>3</td>\n",
       "      <td>pbsds@hotmail.com</td>\n",
       "      <td>2024-11-05T19:23:10Z</td>\n",
       "      <td>NTNU</td>\n",
       "    </tr>\n",
       "    <tr>\n",
       "      <th>4</th>\n",
       "      <td>4</td>\n",
       "      <td>me@0upti.me</td>\n",
       "      <td>2024-11-05T18:23:38Z</td>\n",
       "      <td>None</td>\n",
       "    </tr>\n",
       "    <tr>\n",
       "      <th>...</th>\n",
       "      <td>...</td>\n",
       "      <td>...</td>\n",
       "      <td>...</td>\n",
       "      <td>...</td>\n",
       "    </tr>\n",
       "    <tr>\n",
       "      <th>28439</th>\n",
       "      <td>938</td>\n",
       "      <td>enzime@users.noreply.github.com</td>\n",
       "      <td>2022-10-07T14:42:18Z</td>\n",
       "      <td>enzime-enterprises</td>\n",
       "    </tr>\n",
       "    <tr>\n",
       "      <th>28440</th>\n",
       "      <td>222</td>\n",
       "      <td>aaronchall@yahoo.com</td>\n",
       "      <td>2022-07-14T05:26:00Z</td>\n",
       "      <td>None</td>\n",
       "    </tr>\n",
       "    <tr>\n",
       "      <th>28441</th>\n",
       "      <td>445</td>\n",
       "      <td>sandro.jaeckel@gmail.com</td>\n",
       "      <td>2022-06-22T19:01:40Z</td>\n",
       "      <td>sapcc</td>\n",
       "    </tr>\n",
       "    <tr>\n",
       "      <th>28442</th>\n",
       "      <td>1562</td>\n",
       "      <td>rasmus@precenth.eu</td>\n",
       "      <td>2022-04-02T19:42:11Z</td>\n",
       "      <td>klarna</td>\n",
       "    </tr>\n",
       "    <tr>\n",
       "      <th>28443</th>\n",
       "      <td>770</td>\n",
       "      <td>doron.behar@gmail.com</td>\n",
       "      <td>2021-11-14T18:06:30Z</td>\n",
       "      <td>mathrills</td>\n",
       "    </tr>\n",
       "  </tbody>\n",
       "</table>\n",
       "<p>28444 rows × 4 columns</p>\n",
       "</div>"
      ],
      "text/plain": [
       "       Unnamed: 0                            Email             Timestamp  \\\n",
       "0               0                pbsds@hotmail.com  2024-11-05T19:45:17Z   \n",
       "1               1                pbsds@hotmail.com  2024-11-05T19:37:59Z   \n",
       "2               2                pbsds@hotmail.com  2024-11-05T19:32:27Z   \n",
       "3               3                pbsds@hotmail.com  2024-11-05T19:23:10Z   \n",
       "4               4                      me@0upti.me  2024-11-05T18:23:38Z   \n",
       "...           ...                              ...                   ...   \n",
       "28439         938  enzime@users.noreply.github.com  2022-10-07T14:42:18Z   \n",
       "28440         222             aaronchall@yahoo.com  2022-07-14T05:26:00Z   \n",
       "28441         445         sandro.jaeckel@gmail.com  2022-06-22T19:01:40Z   \n",
       "28442        1562               rasmus@precenth.eu  2022-04-02T19:42:11Z   \n",
       "28443         770            doron.behar@gmail.com  2021-11-14T18:06:30Z   \n",
       "\n",
       "                  Company  \n",
       "0                    NTNU  \n",
       "1                    NTNU  \n",
       "2                    NTNU  \n",
       "3                    NTNU  \n",
       "4                    None  \n",
       "...                   ...  \n",
       "28439  enzime-enterprises  \n",
       "28440                None  \n",
       "28441               sapcc  \n",
       "28442              klarna  \n",
       "28443           mathrills  \n",
       "\n",
       "[28444 rows x 4 columns]"
      ]
     },
     "execution_count": 717,
     "metadata": {},
     "output_type": "execute_result"
    }
   ],
   "source": [
    "df_sorted = df.sort_values(by='Timestamp', ascending=False).reset_index(drop=True)\n",
    "df_sorted"
   ]
  },
  {
   "cell_type": "code",
   "execution_count": 719,
   "id": "c5b78971-a616-4bfd-9955-70cd20b3f9ff",
   "metadata": {},
   "outputs": [],
   "source": [
    "# savety save\n",
    "#df_sorted.to_csv('df_sorted_13')"
   ]
  },
  {
   "cell_type": "markdown",
   "id": "c503a246-7411-42ca-88b8-0b06b2aba904",
   "metadata": {},
   "source": [
    "\"\"\"df_duplicates = pd.merge(df,df10, how= 'inner', indicator=True)\n",
    "if not df_duplicates.empty:\n",
    "    print(\"yes\")\n",
    "else:\n",
    "    print(\"no\")\"\"\""
   ]
  },
  {
   "cell_type": "code",
   "execution_count": 722,
   "id": "48071281-1e74-4da9-ad2f-bd6bc3f28ec0",
   "metadata": {},
   "outputs": [
    {
     "data": {
      "text/html": [
       "<div>\n",
       "<style scoped>\n",
       "    .dataframe tbody tr th:only-of-type {\n",
       "        vertical-align: middle;\n",
       "    }\n",
       "\n",
       "    .dataframe tbody tr th {\n",
       "        vertical-align: top;\n",
       "    }\n",
       "\n",
       "    .dataframe thead th {\n",
       "        text-align: right;\n",
       "    }\n",
       "</style>\n",
       "<table border=\"1\" class=\"dataframe\">\n",
       "  <thead>\n",
       "    <tr style=\"text-align: right;\">\n",
       "      <th></th>\n",
       "      <th>Unnamed: 0</th>\n",
       "      <th>Email</th>\n",
       "      <th>Timestamp</th>\n",
       "      <th>Company</th>\n",
       "      <th>year</th>\n",
       "      <th>month</th>\n",
       "    </tr>\n",
       "  </thead>\n",
       "  <tbody>\n",
       "    <tr>\n",
       "      <th>0</th>\n",
       "      <td>0</td>\n",
       "      <td>pbsds@hotmail.com</td>\n",
       "      <td>2024-11-05 19:45:17+00:00</td>\n",
       "      <td>NTNU</td>\n",
       "      <td>2024</td>\n",
       "      <td>11</td>\n",
       "    </tr>\n",
       "    <tr>\n",
       "      <th>1</th>\n",
       "      <td>1</td>\n",
       "      <td>pbsds@hotmail.com</td>\n",
       "      <td>2024-11-05 19:37:59+00:00</td>\n",
       "      <td>NTNU</td>\n",
       "      <td>2024</td>\n",
       "      <td>11</td>\n",
       "    </tr>\n",
       "    <tr>\n",
       "      <th>2</th>\n",
       "      <td>2</td>\n",
       "      <td>pbsds@hotmail.com</td>\n",
       "      <td>2024-11-05 19:32:27+00:00</td>\n",
       "      <td>NTNU</td>\n",
       "      <td>2024</td>\n",
       "      <td>11</td>\n",
       "    </tr>\n",
       "    <tr>\n",
       "      <th>3</th>\n",
       "      <td>3</td>\n",
       "      <td>pbsds@hotmail.com</td>\n",
       "      <td>2024-11-05 19:23:10+00:00</td>\n",
       "      <td>NTNU</td>\n",
       "      <td>2024</td>\n",
       "      <td>11</td>\n",
       "    </tr>\n",
       "    <tr>\n",
       "      <th>4</th>\n",
       "      <td>4</td>\n",
       "      <td>me@0upti.me</td>\n",
       "      <td>2024-11-05 18:23:38+00:00</td>\n",
       "      <td>None</td>\n",
       "      <td>2024</td>\n",
       "      <td>11</td>\n",
       "    </tr>\n",
       "    <tr>\n",
       "      <th>...</th>\n",
       "      <td>...</td>\n",
       "      <td>...</td>\n",
       "      <td>...</td>\n",
       "      <td>...</td>\n",
       "      <td>...</td>\n",
       "      <td>...</td>\n",
       "    </tr>\n",
       "    <tr>\n",
       "      <th>28439</th>\n",
       "      <td>938</td>\n",
       "      <td>enzime@users.noreply.github.com</td>\n",
       "      <td>2022-10-07 14:42:18+00:00</td>\n",
       "      <td>enzime-enterprises</td>\n",
       "      <td>2022</td>\n",
       "      <td>10</td>\n",
       "    </tr>\n",
       "    <tr>\n",
       "      <th>28440</th>\n",
       "      <td>222</td>\n",
       "      <td>aaronchall@yahoo.com</td>\n",
       "      <td>2022-07-14 05:26:00+00:00</td>\n",
       "      <td>None</td>\n",
       "      <td>2022</td>\n",
       "      <td>7</td>\n",
       "    </tr>\n",
       "    <tr>\n",
       "      <th>28441</th>\n",
       "      <td>445</td>\n",
       "      <td>sandro.jaeckel@gmail.com</td>\n",
       "      <td>2022-06-22 19:01:40+00:00</td>\n",
       "      <td>sapcc</td>\n",
       "      <td>2022</td>\n",
       "      <td>6</td>\n",
       "    </tr>\n",
       "    <tr>\n",
       "      <th>28442</th>\n",
       "      <td>1562</td>\n",
       "      <td>rasmus@precenth.eu</td>\n",
       "      <td>2022-04-02 19:42:11+00:00</td>\n",
       "      <td>klarna</td>\n",
       "      <td>2022</td>\n",
       "      <td>4</td>\n",
       "    </tr>\n",
       "    <tr>\n",
       "      <th>28443</th>\n",
       "      <td>770</td>\n",
       "      <td>doron.behar@gmail.com</td>\n",
       "      <td>2021-11-14 18:06:30+00:00</td>\n",
       "      <td>mathrills</td>\n",
       "      <td>2021</td>\n",
       "      <td>11</td>\n",
       "    </tr>\n",
       "  </tbody>\n",
       "</table>\n",
       "<p>28444 rows × 6 columns</p>\n",
       "</div>"
      ],
      "text/plain": [
       "       Unnamed: 0                            Email                 Timestamp  \\\n",
       "0               0                pbsds@hotmail.com 2024-11-05 19:45:17+00:00   \n",
       "1               1                pbsds@hotmail.com 2024-11-05 19:37:59+00:00   \n",
       "2               2                pbsds@hotmail.com 2024-11-05 19:32:27+00:00   \n",
       "3               3                pbsds@hotmail.com 2024-11-05 19:23:10+00:00   \n",
       "4               4                      me@0upti.me 2024-11-05 18:23:38+00:00   \n",
       "...           ...                              ...                       ...   \n",
       "28439         938  enzime@users.noreply.github.com 2022-10-07 14:42:18+00:00   \n",
       "28440         222             aaronchall@yahoo.com 2022-07-14 05:26:00+00:00   \n",
       "28441         445         sandro.jaeckel@gmail.com 2022-06-22 19:01:40+00:00   \n",
       "28442        1562               rasmus@precenth.eu 2022-04-02 19:42:11+00:00   \n",
       "28443         770            doron.behar@gmail.com 2021-11-14 18:06:30+00:00   \n",
       "\n",
       "                  Company  year  month  \n",
       "0                    NTNU  2024     11  \n",
       "1                    NTNU  2024     11  \n",
       "2                    NTNU  2024     11  \n",
       "3                    NTNU  2024     11  \n",
       "4                    None  2024     11  \n",
       "...                   ...   ...    ...  \n",
       "28439  enzime-enterprises  2022     10  \n",
       "28440                None  2022      7  \n",
       "28441               sapcc  2022      6  \n",
       "28442              klarna  2022      4  \n",
       "28443           mathrills  2021     11  \n",
       "\n",
       "[28444 rows x 6 columns]"
      ]
     },
     "execution_count": 722,
     "metadata": {},
     "output_type": "execute_result"
    }
   ],
   "source": [
    "df_sorted['Timestamp'] = pd.to_datetime(df_sorted['Timestamp'])\n",
    "df_sorted['year'] = df_sorted['Timestamp'].dt.year\n",
    "df_sorted['month'] = df_sorted['Timestamp'].dt.month\n",
    "df_sorted"
   ]
  },
  {
   "cell_type": "code",
   "execution_count": 692,
   "id": "f37ac00f-2dd3-4da3-8611-60210cae1873",
   "metadata": {},
   "outputs": [
    {
     "data": {
      "text/plain": [
       "58"
      ]
     },
     "execution_count": 692,
     "metadata": {},
     "output_type": "execute_result"
    }
   ],
   "source": [
    "count_2023 = (df_sorted['year'] == 2023).sum()\n",
    "count_2023"
   ]
  },
  {
   "cell_type": "code",
   "execution_count": 694,
   "id": "44d540bd-c466-4413-8631-ff3bbbc9a4e3",
   "metadata": {},
   "outputs": [
    {
     "data": {
      "text/plain": [
       "'df_duplicates = pd.merge(df,df_new, how= \\'inner\\', indicator=True)\\nif not df_duplicates.empty:\\n    print(\"yes\")\\nelse:\\n    print(\"no\")'"
      ]
     },
     "execution_count": 694,
     "metadata": {},
     "output_type": "execute_result"
    }
   ],
   "source": [
    "\"\"\"df_duplicates = pd.merge(df,df_new, how= 'inner', indicator=True)\n",
    "if not df_duplicates.empty:\n",
    "    print(\"yes\")\n",
    "else:\n",
    "    print(\"no\")\"\"\""
   ]
  },
  {
   "cell_type": "code",
   "execution_count": null,
   "id": "de9fa897-44fd-4a41-af0e-01c8f1be4ab5",
   "metadata": {},
   "outputs": [],
   "source": []
  }
 ],
 "metadata": {
  "kernelspec": {
   "display_name": "Python 3 (ipykernel)",
   "language": "python",
   "name": "python3"
  },
  "language_info": {
   "codemirror_mode": {
    "name": "ipython",
    "version": 3
   },
   "file_extension": ".py",
   "mimetype": "text/x-python",
   "name": "python",
   "nbconvert_exporter": "python",
   "pygments_lexer": "ipython3",
   "version": "3.12.4"
  }
 },
 "nbformat": 4,
 "nbformat_minor": 5
}
